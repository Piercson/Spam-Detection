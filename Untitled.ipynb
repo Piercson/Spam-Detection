{
 "cells": [
  {
   "cell_type": "code",
   "execution_count": 1,
   "id": "median-supervision",
   "metadata": {},
   "outputs": [
    {
     "ename": "ModuleNotFoundError",
     "evalue": "No module named 'pandas'",
     "output_type": "error",
     "traceback": [
      "\u001b[1;31m---------------------------------------------------------------------------\u001b[0m",
      "\u001b[1;31mModuleNotFoundError\u001b[0m                       Traceback (most recent call last)",
      "\u001b[1;32m<ipython-input-1-8e9f884d40be>\u001b[0m in \u001b[0;36m<module>\u001b[1;34m\u001b[0m\n\u001b[1;32m----> 1\u001b[1;33m \u001b[1;32mimport\u001b[0m \u001b[0mpandas\u001b[0m \u001b[1;32mas\u001b[0m \u001b[0mpd\u001b[0m\u001b[1;33m\u001b[0m\u001b[1;33m\u001b[0m\u001b[0m\n\u001b[0m\u001b[0;32m      2\u001b[0m \u001b[1;32mfrom\u001b[0m \u001b[0mwordcloud\u001b[0m \u001b[1;32mimport\u001b[0m \u001b[0mWordCloud\u001b[0m\u001b[1;33m,\u001b[0m \u001b[0mSTOPWORDS\u001b[0m\u001b[1;33m\u001b[0m\u001b[1;33m\u001b[0m\u001b[0m\n\u001b[0;32m      3\u001b[0m \u001b[1;32mimport\u001b[0m \u001b[0mmatplotlib\u001b[0m\u001b[1;33m.\u001b[0m\u001b[0mpyplot\u001b[0m \u001b[1;32mas\u001b[0m \u001b[0mplt\u001b[0m\u001b[1;33m\u001b[0m\u001b[1;33m\u001b[0m\u001b[0m\n\u001b[0;32m      4\u001b[0m \u001b[1;32mimport\u001b[0m \u001b[0mstring\u001b[0m\u001b[1;33m\u001b[0m\u001b[1;33m\u001b[0m\u001b[0m\n\u001b[0;32m      5\u001b[0m \u001b[1;32mimport\u001b[0m \u001b[0mre\u001b[0m\u001b[1;33m\u001b[0m\u001b[1;33m\u001b[0m\u001b[0m\n",
      "\u001b[1;31mModuleNotFoundError\u001b[0m: No module named 'pandas'"
     ]
    }
   ],
   "source": [
    "import pandas as pd\n",
    "from wordcloud import WordCloud, STOPWORDS\n",
    "import matplotlib.pyplot as plt\n",
    "import string\n",
    "import re\n",
    "import helpers\n",
    "import figures"
   ]
  },
  {
   "cell_type": "markdown",
   "id": "fourth-bulletin",
   "metadata": {},
   "source": [
    "Lets look at the data from Kaggle!"
   ]
  },
  {
   "cell_type": "code",
   "execution_count": null,
   "id": "fitting-surgery",
   "metadata": {},
   "outputs": [],
   "source": [
    "data = pd.read_csv(\"spam.csv\",encoding='latin-1')\n",
    "data.dtypes"
   ]
  },
  {
   "cell_type": "markdown",
   "id": "civil-humanity",
   "metadata": {},
   "source": [
    "All the columns are *object* data types, we have only text info in each of the columns.\n",
    "\n",
    "To check if there is any null values in the columns"
   ]
  },
  {
   "cell_type": "code",
   "execution_count": null,
   "id": "planned-corpus",
   "metadata": {},
   "outputs": [],
   "source": [
    "data.isnull().sum()"
   ]
  },
  {
   "cell_type": "code",
   "execution_count": null,
   "id": "existing-australian",
   "metadata": {},
   "outputs": [],
   "source": [
    "data.count()"
   ]
  },
  {
   "cell_type": "markdown",
   "id": "demanding-alpha",
   "metadata": {},
   "source": [
    "*Unnamed: 2*, *Unnamed: 3*, and *Unnamed: 4* have large amount of null values (also the proportion of of null to non-null values are large)\n",
    "The desciption of the dataset does says that v1 is the classification and v2 is the message, so the other columns having a lot of null values makes sense. I would why it was included?\n",
    "\n",
    "Since columns v1 and v2 are the columns that will work the best, We can keep v1 and v2 because and rename them to help clarity"
   ]
  },
  {
   "cell_type": "code",
   "execution_count": null,
   "id": "regulation-turkey",
   "metadata": {},
   "outputs": [],
   "source": [
    "data = data.drop([\"Unnamed: 2\",\"Unnamed: 3\",\"Unnamed: 4\"],axis=1)"
   ]
  },
  {
   "cell_type": "code",
   "execution_count": null,
   "id": "streaming-wallet",
   "metadata": {},
   "outputs": [],
   "source": [
    "data = data.rename(columns={\"v1\":\"class\",\"v2\":\"msg\"})\n",
    "data"
   ]
  },
  {
   "cell_type": "markdown",
   "id": "preliminary-message",
   "metadata": {},
   "source": [
    "Creating a word map of both Spam and Ham messages will help us visualise a difference between the two groups"
   ]
  },
  {
   "cell_type": "code",
   "execution_count": null,
   "id": "dirty-strike",
   "metadata": {},
   "outputs": [],
   "source": [
    "spam = data[data['class'] == 'spam']\n",
    "ham = data[data['class'] == 'ham']\n",
    "\n",
    "spam_words = helpers.get_words(spam.msg)\n",
    "ham_words = helpers.get_words(ham.msg)"
   ]
  },
  {
   "cell_type": "code",
   "execution_count": null,
   "id": "varied-philippines",
   "metadata": {},
   "outputs": [],
   "source": [
    "figures.plot_wordclouds(spam_words,ham_words)"
   ]
  },
  {
   "cell_type": "markdown",
   "id": "linear-month",
   "metadata": {},
   "source": [
    "Spam sms messages have words like \"txt, call, free, mobile,...\" and not spam words (called ham?) are \"will, u, now, go,...\"\n",
    "There are words that each of the sets have in common (\"u, now, call,..\") but hopefully there is a big difference bettween spam and ham messages that the model can tell the difference most of the time\n",
    "\n",
    "Lets start cleaning the data. The goal is to create the smallest set of unique words that will hopefully indenty if the sms message is spam or not. Punctuation and whitespaces will be remove because whitespaces will help us indicate the class and punctuation will be removed since \"Hello!!!\" is just \"Hello\" in meaning (although you could argue that punctuation could help classify the data we want the smallest set possible). Stopping words, which are commonly used words in the english language (They should appear frequently in both classes) will be removed along with any numbers.\n",
    "\n",
    "WWe will also try to get words to a root form by using stemming techniques such as PorterStemmer and WordNetLemmatizer. "
   ]
  },
  {
   "cell_type": "code",
   "execution_count": null,
   "id": "funky-peace",
   "metadata": {},
   "outputs": [],
   "source": [
    "from nltk.stem import WordNetLemmatizer\n",
    "from nltk.stem import PorterStemmer\n",
    "import nltk\n",
    "nltk.download('wordnet')"
   ]
  },
  {
   "cell_type": "code",
   "execution_count": null,
   "id": "still-wallet",
   "metadata": {},
   "outputs": [],
   "source": [
    "def clean_text(col, technique):\n",
    "    stopwords = STOPWORDS\n",
    "    output = []\n",
    "    if technique == 'PorterStemmer':\n",
    "        tech = PorterStemmer()\n",
    "        get_root = tech.stem\n",
    "    else:\n",
    "        tech = WordNetLemmatizer()\n",
    "        get_root = tech.lemmatize\n",
    "    \n",
    "    tokens = col.split()\n",
    "    for token in tokens:\n",
    "        cleaned_token = token.lower()\n",
    "        if token in stopwords:\n",
    "            continue\n",
    "        cleaned_token = re.sub(r'[0-9]+', '', cleaned_token)\n",
    "        cleaned_token = re.sub(r'[^\\w\\s]', '', cleaned_token)\n",
    "        cleaned_token = re.sub(r'[_]', '', cleaned_token)\n",
    "        cleaned_token = get_root(cleaned_token)\n",
    "        output.append(cleaned_token)\n",
    "    output = list(filter(lambda x: x!='',output)) \n",
    "    return \" \".join(word for word in output)\n",
    "\n",
    "data['cleaned_stemm'] = data.msg.apply(clean_text,technique='PorterStemmer')\n",
    "data['cleaned_lemm'] = data.msg.apply(clean_text,technique='WordNetLemmatizer')\n",
    "data"
   ]
  },
  {
   "cell_type": "code",
   "execution_count": 15,
   "id": "experienced-redhead",
   "metadata": {},
   "outputs": [],
   "source": [
    "from sklearn.model_selection import train_test_split\n",
    "from sklearn.feature_extraction.text import CountVectorizer\n",
    "from sklearn.pipeline import Pipeline\n",
    "from sklearn.naive_bayes import GaussianNB\n",
    "from sklearn.feature_extraction.text import TfidfVectorizer\n",
    "from sklearn.metrics import confusion_matrix\n",
    "from sklearn import svm\n",
    "\n",
    "import seaborn as sns\n",
    "vectorize = TfidfVectorizer()\n",
    "features = vectorize.fit(data['cleaned_stemm'])\n",
    "X_train, X_valid, y_train, y_valid = train_test_split(data['cleaned_stemm'], data['class'],train_size=0.8, test_size=0.2,random_state=0)\n",
    "model = svm.SVC(kernel='poly')\n",
    "model.fit(vectorize.transform(X_train).toarray(),y_train)\n",
    "predictions = model.predict(vectorize.transform(X_valid).toarray())"
   ]
  },
  {
   "cell_type": "code",
   "execution_count": 12,
   "id": "based-camcorder",
   "metadata": {},
   "outputs": [
    {
     "name": "stdout",
     "output_type": "stream",
     "text": [
      "0.9345291479820628\n"
     ]
    },
    {
     "data": {
      "image/png": "[encoded data removed]",
      "text/plain": [
       "<Figure size 432x288 with 1 Axes>"
      ]
     },
     "metadata": {
      "needs_background": "light"
     },
     "output_type": "display_data"
    }
   ],
   "source": [
    "cf = confusion_matrix(y_valid,predictions,labels=[\"spam\",\"ham\"])\n",
    "labels = ['Spam',\"Ham\"]\n",
    "sns.heatmap(cf,cbar=False,xticklabels=labels,yticklabels=labels,annot=True,fmt=\"d\",cmap='Blues')\n",
    "print(model.score(vectorize.transform(X_valid).toarray(),y_valid))"
   ]
  },
  {
   "cell_type": "code",
   "execution_count": 2,
   "id": "centered-eclipse",
   "metadata": {},
   "outputs": [
    {
     "data": {
      "text/plain": [
       "[PhysicalDevice(name='/physical_device:GPU:0', device_type='GPU')]"
      ]
     },
     "execution_count": 2,
     "metadata": {},
     "output_type": "execute_result"
    }
   ],
   "source": [
    "import tensorflow as tf\n",
    "from tensorflow.python.client import device_lib\n",
    "tf.config.list_physical_devices('GPU')"
   ]
  }
 ],
 "metadata": {
  "kernelspec": {
   "display_name": "Python 3",
   "language": "python",
   "name": "python3"
  },
  "language_info": {
   "codemirror_mode": {
    "name": "ipython",
    "version": 3
   },
   "file_extension": ".py",
   "mimetype": "text/x-python",
   "name": "python",
   "nbconvert_exporter": "python",
   "pygments_lexer": "ipython3",
   "version": "3.8.10"
  }
 },
 "nbformat": 4,
 "nbformat_minor": 5
}
